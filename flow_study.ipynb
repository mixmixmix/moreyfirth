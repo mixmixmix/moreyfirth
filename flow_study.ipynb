{
 "cells": [
  {
   "cell_type": "code",
   "execution_count": 46,
   "metadata": {},
   "outputs": [
    {
     "name": "stdout",
     "output_type": "stream",
     "text": [
      "Average both directions:\n"
     ]
    },
    {
     "data": {
      "text/html": [
       "<div>\n",
       "<style scoped>\n",
       "    .dataframe tbody tr th:only-of-type {\n",
       "        vertical-align: middle;\n",
       "    }\n",
       "\n",
       "    .dataframe tbody tr th {\n",
       "        vertical-align: top;\n",
       "    }\n",
       "\n",
       "    .dataframe thead th {\n",
       "        text-align: right;\n",
       "    }\n",
       "</style>\n",
       "<table border=\"1\" class=\"dataframe\">\n",
       "  <thead>\n",
       "    <tr style=\"text-align: right;\">\n",
       "      <th></th>\n",
       "      <th>fraction_24h</th>\n",
       "      <th>stable_pre</th>\n",
       "      <th>change</th>\n",
       "      <th>stable_post</th>\n",
       "      <th>minutes</th>\n",
       "    </tr>\n",
       "  </thead>\n",
       "  <tbody>\n",
       "    <tr>\n",
       "      <th>count</th>\n",
       "      <td>34.000000</td>\n",
       "      <td>20.000000</td>\n",
       "      <td>20.000000</td>\n",
       "      <td>20.000000</td>\n",
       "      <td>34.000000</td>\n",
       "    </tr>\n",
       "    <tr>\n",
       "      <th>mean</th>\n",
       "      <td>0.001204</td>\n",
       "      <td>8.700000</td>\n",
       "      <td>6.750000</td>\n",
       "      <td>9.000000</td>\n",
       "      <td>1.734314</td>\n",
       "    </tr>\n",
       "    <tr>\n",
       "      <th>std</th>\n",
       "      <td>0.000815</td>\n",
       "      <td>4.079474</td>\n",
       "      <td>2.788605</td>\n",
       "      <td>2.828427</td>\n",
       "      <td>1.174296</td>\n",
       "    </tr>\n",
       "    <tr>\n",
       "      <th>min</th>\n",
       "      <td>0.000197</td>\n",
       "      <td>2.000000</td>\n",
       "      <td>0.000000</td>\n",
       "      <td>4.000000</td>\n",
       "      <td>0.283333</td>\n",
       "    </tr>\n",
       "    <tr>\n",
       "      <th>25%</th>\n",
       "      <td>0.000726</td>\n",
       "      <td>6.000000</td>\n",
       "      <td>5.000000</td>\n",
       "      <td>7.750000</td>\n",
       "      <td>1.045833</td>\n",
       "    </tr>\n",
       "    <tr>\n",
       "      <th>50%</th>\n",
       "      <td>0.001001</td>\n",
       "      <td>8.500000</td>\n",
       "      <td>7.000000</td>\n",
       "      <td>9.000000</td>\n",
       "      <td>1.441667</td>\n",
       "    </tr>\n",
       "    <tr>\n",
       "      <th>75%</th>\n",
       "      <td>0.001481</td>\n",
       "      <td>10.250000</td>\n",
       "      <td>8.000000</td>\n",
       "      <td>10.250000</td>\n",
       "      <td>2.133333</td>\n",
       "    </tr>\n",
       "    <tr>\n",
       "      <th>max</th>\n",
       "      <td>0.003414</td>\n",
       "      <td>16.000000</td>\n",
       "      <td>13.000000</td>\n",
       "      <td>14.000000</td>\n",
       "      <td>4.916667</td>\n",
       "    </tr>\n",
       "  </tbody>\n",
       "</table>\n",
       "</div>"
      ],
      "text/plain": [
       "       fraction_24h  stable_pre     change  stable_post    minutes\n",
       "count     34.000000   20.000000  20.000000    20.000000  34.000000\n",
       "mean       0.001204    8.700000   6.750000     9.000000   1.734314\n",
       "std        0.000815    4.079474   2.788605     2.828427   1.174296\n",
       "min        0.000197    2.000000   0.000000     4.000000   0.283333\n",
       "25%        0.000726    6.000000   5.000000     7.750000   1.045833\n",
       "50%        0.001001    8.500000   7.000000     9.000000   1.441667\n",
       "75%        0.001481   10.250000   8.000000    10.250000   2.133333\n",
       "max        0.003414   16.000000  13.000000    14.000000   4.916667"
      ]
     },
     "metadata": {},
     "output_type": "display_data"
    },
    {
     "name": "stdout",
     "output_type": "stream",
     "text": [
      "Change to the right:\n"
     ]
    },
    {
     "data": {
      "text/html": [
       "<div>\n",
       "<style scoped>\n",
       "    .dataframe tbody tr th:only-of-type {\n",
       "        vertical-align: middle;\n",
       "    }\n",
       "\n",
       "    .dataframe tbody tr th {\n",
       "        vertical-align: top;\n",
       "    }\n",
       "\n",
       "    .dataframe thead th {\n",
       "        text-align: right;\n",
       "    }\n",
       "</style>\n",
       "<table border=\"1\" class=\"dataframe\">\n",
       "  <thead>\n",
       "    <tr style=\"text-align: right;\">\n",
       "      <th></th>\n",
       "      <th>fraction_24h</th>\n",
       "      <th>stable_pre</th>\n",
       "      <th>change</th>\n",
       "      <th>stable_post</th>\n",
       "      <th>minutes</th>\n",
       "    </tr>\n",
       "  </thead>\n",
       "  <tbody>\n",
       "    <tr>\n",
       "      <th>count</th>\n",
       "      <td>6.000000</td>\n",
       "      <td>6.000000</td>\n",
       "      <td>6.000000</td>\n",
       "      <td>6.000000</td>\n",
       "      <td>6.000000</td>\n",
       "    </tr>\n",
       "    <tr>\n",
       "      <th>mean</th>\n",
       "      <td>0.001671</td>\n",
       "      <td>11.833333</td>\n",
       "      <td>7.500000</td>\n",
       "      <td>9.166667</td>\n",
       "      <td>2.405556</td>\n",
       "    </tr>\n",
       "    <tr>\n",
       "      <th>std</th>\n",
       "      <td>0.001022</td>\n",
       "      <td>3.868678</td>\n",
       "      <td>2.167948</td>\n",
       "      <td>0.752773</td>\n",
       "      <td>1.471570</td>\n",
       "    </tr>\n",
       "    <tr>\n",
       "      <th>min</th>\n",
       "      <td>0.000764</td>\n",
       "      <td>8.000000</td>\n",
       "      <td>5.000000</td>\n",
       "      <td>8.000000</td>\n",
       "      <td>1.100000</td>\n",
       "    </tr>\n",
       "    <tr>\n",
       "      <th>25%</th>\n",
       "      <td>0.000790</td>\n",
       "      <td>8.250000</td>\n",
       "      <td>6.000000</td>\n",
       "      <td>9.000000</td>\n",
       "      <td>1.137500</td>\n",
       "    </tr>\n",
       "    <tr>\n",
       "      <th>50%</th>\n",
       "      <td>0.001389</td>\n",
       "      <td>12.000000</td>\n",
       "      <td>7.000000</td>\n",
       "      <td>9.000000</td>\n",
       "      <td>2.000000</td>\n",
       "    </tr>\n",
       "    <tr>\n",
       "      <th>75%</th>\n",
       "      <td>0.002500</td>\n",
       "      <td>15.000000</td>\n",
       "      <td>9.500000</td>\n",
       "      <td>9.750000</td>\n",
       "      <td>3.600000</td>\n",
       "    </tr>\n",
       "    <tr>\n",
       "      <th>max</th>\n",
       "      <td>0.003021</td>\n",
       "      <td>16.000000</td>\n",
       "      <td>10.000000</td>\n",
       "      <td>10.000000</td>\n",
       "      <td>4.350000</td>\n",
       "    </tr>\n",
       "  </tbody>\n",
       "</table>\n",
       "</div>"
      ],
      "text/plain": [
       "       fraction_24h  stable_pre     change  stable_post   minutes\n",
       "count      6.000000    6.000000   6.000000     6.000000  6.000000\n",
       "mean       0.001671   11.833333   7.500000     9.166667  2.405556\n",
       "std        0.001022    3.868678   2.167948     0.752773  1.471570\n",
       "min        0.000764    8.000000   5.000000     8.000000  1.100000\n",
       "25%        0.000790    8.250000   6.000000     9.000000  1.137500\n",
       "50%        0.001389   12.000000   7.000000     9.000000  2.000000\n",
       "75%        0.002500   15.000000   9.500000     9.750000  3.600000\n",
       "max        0.003021   16.000000  10.000000    10.000000  4.350000"
      ]
     },
     "metadata": {},
     "output_type": "display_data"
    },
    {
     "name": "stdout",
     "output_type": "stream",
     "text": [
      "Change to the left:\n"
     ]
    },
    {
     "data": {
      "text/html": [
       "<div>\n",
       "<style scoped>\n",
       "    .dataframe tbody tr th:only-of-type {\n",
       "        vertical-align: middle;\n",
       "    }\n",
       "\n",
       "    .dataframe tbody tr th {\n",
       "        vertical-align: top;\n",
       "    }\n",
       "\n",
       "    .dataframe thead th {\n",
       "        text-align: right;\n",
       "    }\n",
       "</style>\n",
       "<table border=\"1\" class=\"dataframe\">\n",
       "  <thead>\n",
       "    <tr style=\"text-align: right;\">\n",
       "      <th></th>\n",
       "      <th>fraction_24h</th>\n",
       "      <th>stable_pre</th>\n",
       "      <th>change</th>\n",
       "      <th>stable_post</th>\n",
       "      <th>minutes</th>\n",
       "    </tr>\n",
       "  </thead>\n",
       "  <tbody>\n",
       "    <tr>\n",
       "      <th>count</th>\n",
       "      <td>13.000000</td>\n",
       "      <td>13.000000</td>\n",
       "      <td>13.000000</td>\n",
       "      <td>13.000000</td>\n",
       "      <td>13.000000</td>\n",
       "    </tr>\n",
       "    <tr>\n",
       "      <th>mean</th>\n",
       "      <td>0.001322</td>\n",
       "      <td>7.153846</td>\n",
       "      <td>6.923077</td>\n",
       "      <td>8.692308</td>\n",
       "      <td>1.903846</td>\n",
       "    </tr>\n",
       "    <tr>\n",
       "      <th>std</th>\n",
       "      <td>0.000818</td>\n",
       "      <td>3.531906</td>\n",
       "      <td>2.498718</td>\n",
       "      <td>3.400603</td>\n",
       "      <td>1.178632</td>\n",
       "    </tr>\n",
       "    <tr>\n",
       "      <th>min</th>\n",
       "      <td>0.000197</td>\n",
       "      <td>2.000000</td>\n",
       "      <td>3.000000</td>\n",
       "      <td>4.000000</td>\n",
       "      <td>0.283333</td>\n",
       "    </tr>\n",
       "    <tr>\n",
       "      <th>25%</th>\n",
       "      <td>0.000752</td>\n",
       "      <td>6.000000</td>\n",
       "      <td>5.000000</td>\n",
       "      <td>7.000000</td>\n",
       "      <td>1.083333</td>\n",
       "    </tr>\n",
       "    <tr>\n",
       "      <th>50%</th>\n",
       "      <td>0.001169</td>\n",
       "      <td>6.000000</td>\n",
       "      <td>7.000000</td>\n",
       "      <td>8.000000</td>\n",
       "      <td>1.683333</td>\n",
       "    </tr>\n",
       "    <tr>\n",
       "      <th>75%</th>\n",
       "      <td>0.001655</td>\n",
       "      <td>10.000000</td>\n",
       "      <td>8.000000</td>\n",
       "      <td>11.000000</td>\n",
       "      <td>2.383333</td>\n",
       "    </tr>\n",
       "    <tr>\n",
       "      <th>max</th>\n",
       "      <td>0.003414</td>\n",
       "      <td>14.000000</td>\n",
       "      <td>13.000000</td>\n",
       "      <td>14.000000</td>\n",
       "      <td>4.916667</td>\n",
       "    </tr>\n",
       "  </tbody>\n",
       "</table>\n",
       "</div>"
      ],
      "text/plain": [
       "       fraction_24h  stable_pre     change  stable_post    minutes\n",
       "count     13.000000   13.000000  13.000000    13.000000  13.000000\n",
       "mean       0.001322    7.153846   6.923077     8.692308   1.903846\n",
       "std        0.000818    3.531906   2.498718     3.400603   1.178632\n",
       "min        0.000197    2.000000   3.000000     4.000000   0.283333\n",
       "25%        0.000752    6.000000   5.000000     7.000000   1.083333\n",
       "50%        0.001169    6.000000   7.000000     8.000000   1.683333\n",
       "75%        0.001655   10.000000   8.000000    11.000000   2.383333\n",
       "max        0.003414   14.000000  13.000000    14.000000   4.916667"
      ]
     },
     "metadata": {},
     "output_type": "display_data"
    }
   ],
   "source": [
    "import numpy as np\n",
    "import seaborn as sb\n",
    "import pandas as pd\n",
    "import csv\n",
    "\n",
    "flow_data_name = 'dir.csv'\n",
    "flow_data = pandas.read_csv(flow_data_name)\n",
    "#display(flow_data)\n",
    "flow_data.drop(1,inplace=True) #removing one measurement which was over 5 min for some reason\n",
    "#describe(flow_data)\n",
    "flow_data.head()\n",
    "flow_data_with_flow_measured= flow_data[np.isfinite(flow_data['change'])]\n",
    "print('Average both directions:')\n",
    "display(abs(flow_data).describe()) #absolute values so it doesn't depend on direction\n",
    "print('Change to the right:')\n",
    "display(abs(flow_data[flow_data['change']>0]).describe()) #change to the right\n",
    "print('Change to the left:')\n",
    "display(abs(flow_data[flow_data['change']<0]).describe()) #change to the left"
   ]
  },
  {
   "cell_type": "code",
   "execution_count": 68,
   "metadata": {},
   "outputs": [
    {
     "data": {
      "text/plain": [
       "\" The key value are \\n'change' - the flow required to change direction and \\n'minutes' - time in minutes until fish changed direction\\n\""
      ]
     },
     "execution_count": 68,
     "metadata": {},
     "output_type": "execute_result"
    }
   ],
   "source": [
    "''' The key value are \n",
    "'change' - the flow required to change direction and \n",
    "'minutes' - time in minutes until fish changed direction\n",
    "'''"
   ]
  },
  {
   "cell_type": "code",
   "execution_count": 55,
   "metadata": {},
   "outputs": [
    {
     "data": {
      "image/png": "[encoded data removed]",
      "text/plain": [
       "<Figure size 432x288 with 1 Axes>"
      ]
     },
     "metadata": {
      "needs_background": "light"
     },
     "output_type": "display_data"
    },
    {
     "name": "stdout",
     "output_type": "stream",
     "text": [
      "n = 20\n"
     ]
    }
   ],
   "source": [
    "#plot flow speed in 0.01 m/s at which fish changed direction or swam off\n",
    "avgchange = abs(flow_data_with_flow_measured['change'])\n",
    "plot1 = sb.distplot(avgchange,kde = True)\n",
    "plot1.set(xlabel='Flow needed for fish to change direction [0.01 m/s] ', ylabel='')\n",
    "plt.show()\n",
    "print('n = {0}'.format(len(avgchange)))"
   ]
  },
  {
   "cell_type": "code",
   "execution_count": 67,
   "metadata": {},
   "outputs": [
    {
     "data": {
      "image/png": "[encoded data removed]",
      "text/plain": [
       "<Figure size 432x288 with 1 Axes>"
      ]
     },
     "metadata": {
      "needs_background": "light"
     },
     "output_type": "display_data"
    },
    {
     "name": "stdout",
     "output_type": "stream",
     "text": [
      "n = 34\n"
     ]
    }
   ],
   "source": [
    "#plot flow speed in 0.01 m/s at which fish changed direction or swam off\n",
    "avgtime = abs(flow_data['minutes'])\n",
    "plot1 = sb.distplot(avgtime,kde = True)\n",
    "plot1.set(xlabel='Time to change direction ', ylabel='')\n",
    "plt.show()\n",
    "print('n = {0}'.format(len(avgtime)))"
   ]
  },
  {
   "cell_type": "code",
   "execution_count": 64,
   "metadata": {},
   "outputs": [
    {
     "data": {
      "image/png": "[encoded data removed]",
      "text/plain": [
       "<Figure size 432x288 with 1 Axes>"
      ]
     },
     "metadata": {
      "needs_background": "light"
     },
     "output_type": "display_data"
    },
    {
     "name": "stdout",
     "output_type": "stream",
     "text": [
      "right (blue) n = 6\n",
      "left (yellow) n = 13\n"
     ]
    }
   ],
   "source": [
    "# plot delay in response \n",
    "right = abs(flow_data[flow_data['change']>0]['change'])\n",
    "left = abs(flow_data[flow_data['change']<0]['change'])\n",
    "plot2 = sb.distplot(right,kde = True)\n",
    "plot2 = sb.distplot(left,kde = True)\n",
    "plot2.set(xlabel = 'flow velocity 0.01 * m/s', title='Flow needed for fish to change direction; direction change separated. Right blue, left: yellow', ylabel='')\n",
    "plt.show()\n",
    "#blue right\n",
    "print('right (blue) n = {0}'.format(len(right)))\n",
    "print('left (yellow) n = {0}'.format(len(left)))\n",
    "#yellow: left"
   ]
  },
  {
   "cell_type": "code",
   "execution_count": 65,
   "metadata": {},
   "outputs": [
    {
     "data": {
      "image/png": "[encoded data removed]",
      "text/plain": [
       "<Figure size 432x288 with 1 Axes>"
      ]
     },
     "metadata": {
      "needs_background": "light"
     },
     "output_type": "display_data"
    },
    {
     "name": "stdout",
     "output_type": "stream",
     "text": [
      "right (blue) n = 6\n",
      "left (yellow) n = 13\n"
     ]
    }
   ],
   "source": [
    "# plot delay in response \n",
    "right = flow_data[flow_data['change']>0]['minutes']\n",
    "left = flow_data[flow_data['change']<0]['minutes']\n",
    "plot2 = sb.distplot(right,kde = True)\n",
    "plot2 = sb.distplot(left,kde = True)\n",
    "plot2.set(xlabel = 'time [s]', title='Time for fish to change direction; direction change separated. Right blue, left: yellow', ylabel='')\n",
    "plt.show()\n",
    "#blue right\n",
    "print('right (blue) n = {0}'.format(len(right)))\n",
    "print('left (yellow) n = {0}'.format(len(left)))\n",
    "#yellow: left"
   ]
  },
  {
   "cell_type": "code",
   "execution_count": null,
   "metadata": {},
   "outputs": [],
   "source": []
  }
 ],
 "metadata": {
  "kernelspec": {
   "display_name": "Python 3",
   "language": "python",
   "name": "python3"
  },
  "language_info": {
   "codemirror_mode": {
    "name": "ipython",
    "version": 3
   },
   "file_extension": ".py",
   "mimetype": "text/x-python",
   "name": "python",
   "nbconvert_exporter": "python",
   "pygments_lexer": "ipython3",
   "version": "3.7.4"
  }
 },
 "nbformat": 4,
 "nbformat_minor": 2
}
