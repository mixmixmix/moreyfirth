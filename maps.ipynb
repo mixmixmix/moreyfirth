{
 "cells": [
  {
   "cell_type": "code",
   "execution_count": null,
   "metadata": {},
   "outputs": [],
   "source": [
    "import csv\n",
    "import pandas as pd\n",
    "import folium\n",
    "import glob\n",
    "import numpy as np\n",
    "import matplotlib.pyplot as plt"
   ]
  },
  {
   "cell_type": "code",
   "execution_count": null,
   "metadata": {},
   "outputs": [],
   "source": [
    "rec_data_name = 'data/recievers.csv'\n",
    "rec_data = pd.read_csv(rec_data_name)\n",
    "\n",
    "filelist = glob.glob('data/observations/*.csv')\n",
    "dfs = dict()\n",
    "rec_ids = []\n",
    "for f in filelist:\n",
    "    rec_id = f.split('_')[1]\n",
    "    dfs[rec_id]=pd.read_csv(f)\n",
    "    rec_ids.append(rec_id)"
   ]
  },
  {
   "cell_type": "code",
   "execution_count": null,
   "metadata": {},
   "outputs": [],
   "source": [
    "m = folium.Map(location=[57.0890, -4.7483], zoom_start=15)\n",
    "recs = list()\n",
    "for index, rec in rec_data[rec_data['system']=='Ness'].iterrows():\n",
    "    recs.append(rec)\n",
    "    if str(int(rec['id'])) in rec_ids:\n",
    "        colour = 'red'\n",
    "        df = dfs[str(int(rec['id']))]\n",
    "        fishes = len(df['Transmitter'].unique())\n",
    "    else:\n",
    "        colour = 'black'\n",
    "        fishes = 0\n",
    "\n",
    "    folium.CircleMarker(location = [rec['lat'], rec['lon']], popup=rec['id'], \n",
    "                        color = colour,\n",
    "                      radius=np.sqrt(fishes),\n",
    "                      fill=True,\n",
    "                      fill_color=colour,\n",
    "                        stroke = True,\n",
    "                        weight=1,\n",
    "                        fill_opacity=.55\n",
    "                     ).add_to(m)\n",
    "\n",
    "    \n",
    "\n",
    "m"
   ]
  },
  {
   "cell_type": "code",
   "execution_count": null,
   "metadata": {},
   "outputs": [],
   "source": [
    "\n",
    "    \n"
   ]
  },
  {
   "cell_type": "code",
   "execution_count": null,
   "metadata": {},
   "outputs": [],
   "source": [
    "import dateutil\n",
    "timethreshold = 30 #how many seconds max difference between pings from a fish\n",
    "dffilts = dict()\n",
    "for key, df in dfs.items():\n",
    "    df['tesc'] = df.apply (lambda row: dateutil.parser.isoparse(row['Date and Time (UTC)']).timestamp(), axis=1)\n",
    "    df['datetime'] = df.apply (lambda row: dateutil.parser.isoparse(row['Date and Time (UTC)']), axis=1)\n",
    "    df = df [['tesc','datetime','Transmitter']]\n",
    "    #df.set_index('tesc')\n",
    "    df['fishdiff']= ~(df['Transmitter'] == df['Transmitter'].shift())\n",
    "    df['mfishdiff']= ~(df['Transmitter'].shift(-1) == df['Transmitter'])\n",
    "    df['tdiff']=df['tesc'] - df['tesc'].shift(1, fill_value=1554901439)\n",
    "    df['mtdiff']=df['tesc'].shift(-1, fill_value=1554901439) - df['tesc']\n",
    "    dffilt = df[((df['tdiff']<timethreshold) & (df['fishdiff'])) | ((df['mtdiff']<timethreshold)  & (df['mfishdiff']))]\n",
    "    plt.plot(dffilt['datetime'],dffilt['tdiff'],'o')\n",
    "    plt.show()\n",
    "    display(dffilt.head(10))\n",
    "    dffilts[key]=dffilt"
   ]
  },
  {
   "cell_type": "code",
   "execution_count": null,
   "metadata": {},
   "outputs": [],
   "source": [
    "#give clusters a name\n",
    "for dffilt in dffilts.values():\n",
    "    groupid = 0\n",
    "    shoals = []\n",
    "    for ix, valx in dffilt.iterrows():\n",
    "        if valx['tdiff']>=timethreshold:\n",
    "            groupid=groupid+1\n",
    "        shoals.append(groupid)\n",
    "        \n",
    "    dffilt['shoals']=shoals        \n",
    "    plt.plot(dffilt['datetime'],dffilt['shoals'],'o')\n",
    "    plt.show()\n",
    "\n",
    "#plot cluster sizes x cluster number per time\n",
    "#show that on a map"
   ]
  },
  {
   "cell_type": "code",
   "execution_count": null,
   "metadata": {},
   "outputs": [],
   "source": [
    "for key, dffilt in dffilts.items():\n",
    "    print(key)\n",
    "    plt.plot(dffilt.groupby('shoals').size())\n",
    "    plt.show()"
   ]
  },
  {
   "cell_type": "code",
   "execution_count": null,
   "metadata": {},
   "outputs": [],
   "source": []
  }
 ],
 "metadata": {
  "kernelspec": {
   "display_name": "Python 3",
   "language": "python",
   "name": "python3"
  },
  "language_info": {
   "codemirror_mode": {
    "name": "ipython",
    "version": 3
   },
   "file_extension": ".py",
   "mimetype": "text/x-python",
   "name": "python",
   "nbconvert_exporter": "python",
   "pygments_lexer": "ipython3",
   "version": "3.7.5"
  }
 },
 "nbformat": 4,
 "nbformat_minor": 4
}
